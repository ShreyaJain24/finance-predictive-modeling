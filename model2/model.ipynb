{
 "cells": [
  {
   "cell_type": "code",
   "execution_count": 1,
   "metadata": {},
   "outputs": [],
   "source": [
    "import numpy as np\n",
    "import pandas as pd"
   ]
  },
  {
   "cell_type": "code",
   "execution_count": 2,
   "metadata": {},
   "outputs": [
    {
     "data": {
      "text/html": [
       "<div>\n",
       "<style scoped>\n",
       "    .dataframe tbody tr th:only-of-type {\n",
       "        vertical-align: middle;\n",
       "    }\n",
       "\n",
       "    .dataframe tbody tr th {\n",
       "        vertical-align: top;\n",
       "    }\n",
       "\n",
       "    .dataframe thead th {\n",
       "        text-align: right;\n",
       "    }\n",
       "</style>\n",
       "<table border=\"1\" class=\"dataframe\">\n",
       "  <thead>\n",
       "    <tr style=\"text-align: right;\">\n",
       "      <th></th>\n",
       "      <th>most_altitude</th>\n",
       "      <th>most_location_provider</th>\n",
       "      <th>most_long_1</th>\n",
       "      <th>most_lat_1</th>\n",
       "      <th>Frequency_gps_points</th>\n",
       "      <th>loan_outcome</th>\n",
       "      <th>age</th>\n",
       "      <th>cash_incoming_30days</th>\n",
       "    </tr>\n",
       "  </thead>\n",
       "  <tbody>\n",
       "    <tr>\n",
       "      <th>0</th>\n",
       "      <td>Low</td>\n",
       "      <td>fused</td>\n",
       "      <td>A</td>\n",
       "      <td>A</td>\n",
       "      <td>70.0</td>\n",
       "      <td>repaid</td>\n",
       "      <td>36</td>\n",
       "      <td>9968.12</td>\n",
       "    </tr>\n",
       "    <tr>\n",
       "      <th>1</th>\n",
       "      <td>High</td>\n",
       "      <td>fused</td>\n",
       "      <td>A</td>\n",
       "      <td>A</td>\n",
       "      <td>10.0</td>\n",
       "      <td>defaulted</td>\n",
       "      <td>27</td>\n",
       "      <td>59.04</td>\n",
       "    </tr>\n",
       "    <tr>\n",
       "      <th>2</th>\n",
       "      <td>High</td>\n",
       "      <td>gps</td>\n",
       "      <td>C</td>\n",
       "      <td>B</td>\n",
       "      <td>1.0</td>\n",
       "      <td>defaulted</td>\n",
       "      <td>38</td>\n",
       "      <td>2129.03</td>\n",
       "    </tr>\n",
       "    <tr>\n",
       "      <th>3</th>\n",
       "      <td>Low</td>\n",
       "      <td>fused</td>\n",
       "      <td>A</td>\n",
       "      <td>B</td>\n",
       "      <td>2.0</td>\n",
       "      <td>repaid</td>\n",
       "      <td>33</td>\n",
       "      <td>2102.53</td>\n",
       "    </tr>\n",
       "    <tr>\n",
       "      <th>4</th>\n",
       "      <td>Low</td>\n",
       "      <td>fused</td>\n",
       "      <td>A</td>\n",
       "      <td>A</td>\n",
       "      <td>9.0</td>\n",
       "      <td>defaulted</td>\n",
       "      <td>42</td>\n",
       "      <td>9305.85</td>\n",
       "    </tr>\n",
       "    <tr>\n",
       "      <th>5</th>\n",
       "      <td>Low</td>\n",
       "      <td>fused</td>\n",
       "      <td>D</td>\n",
       "      <td>B</td>\n",
       "      <td>29.0</td>\n",
       "      <td>repaid</td>\n",
       "      <td>28</td>\n",
       "      <td>2726.06</td>\n",
       "    </tr>\n",
       "    <tr>\n",
       "      <th>6</th>\n",
       "      <td>Low</td>\n",
       "      <td>network</td>\n",
       "      <td>D</td>\n",
       "      <td>B</td>\n",
       "      <td>274.0</td>\n",
       "      <td>defaulted</td>\n",
       "      <td>25</td>\n",
       "      <td>1715.96</td>\n",
       "    </tr>\n",
       "    <tr>\n",
       "      <th>7</th>\n",
       "      <td>Low</td>\n",
       "      <td>gps</td>\n",
       "      <td>A</td>\n",
       "      <td>A</td>\n",
       "      <td>22.0</td>\n",
       "      <td>repaid</td>\n",
       "      <td>34</td>\n",
       "      <td>9260.69</td>\n",
       "    </tr>\n",
       "    <tr>\n",
       "      <th>8</th>\n",
       "      <td>Low</td>\n",
       "      <td>fused</td>\n",
       "      <td>D</td>\n",
       "      <td>B</td>\n",
       "      <td>39.0</td>\n",
       "      <td>repaid</td>\n",
       "      <td>32</td>\n",
       "      <td>4450.94</td>\n",
       "    </tr>\n",
       "    <tr>\n",
       "      <th>9</th>\n",
       "      <td>Low</td>\n",
       "      <td>fused</td>\n",
       "      <td>A</td>\n",
       "      <td>A</td>\n",
       "      <td>4.0</td>\n",
       "      <td>repaid</td>\n",
       "      <td>58</td>\n",
       "      <td>11278.26</td>\n",
       "    </tr>\n",
       "  </tbody>\n",
       "</table>\n",
       "</div>"
      ],
      "text/plain": [
       "  most_altitude most_location_provider most_long_1 most_lat_1  \\\n",
       "0           Low                  fused           A          A   \n",
       "1          High                  fused           A          A   \n",
       "2          High                    gps           C          B   \n",
       "3           Low                  fused           A          B   \n",
       "4           Low                  fused           A          A   \n",
       "5           Low                  fused           D          B   \n",
       "6           Low                network           D          B   \n",
       "7           Low                    gps           A          A   \n",
       "8           Low                  fused           D          B   \n",
       "9           Low                  fused           A          A   \n",
       "\n",
       "   Frequency_gps_points loan_outcome  age  cash_incoming_30days  \n",
       "0                  70.0       repaid   36               9968.12  \n",
       "1                  10.0    defaulted   27                 59.04  \n",
       "2                   1.0    defaulted   38               2129.03  \n",
       "3                   2.0       repaid   33               2102.53  \n",
       "4                   9.0    defaulted   42               9305.85  \n",
       "5                  29.0       repaid   28               2726.06  \n",
       "6                 274.0    defaulted   25               1715.96  \n",
       "7                  22.0       repaid   34               9260.69  \n",
       "8                  39.0       repaid   32               4450.94  \n",
       "9                   4.0       repaid   58              11278.26  "
      ]
     },
     "execution_count": 2,
     "metadata": {},
     "output_type": "execute_result"
    }
   ],
   "source": [
    "input_path = \"input_data_EDA3.csv\"\n",
    "input_df = pd.read_csv(input_path)\n",
    "input_df.head(10)"
   ]
  },
  {
   "cell_type": "code",
   "execution_count": 3,
   "metadata": {},
   "outputs": [
    {
     "name": "stdout",
     "output_type": "stream",
     "text": [
      "X  (371, 20)\n",
      "y  (371, 1)\n",
      "              precision    recall  f1-score   support\n",
      "\n",
      "   defaulted       0.79      0.58      0.67        19\n",
      "      repaid       0.67      0.84      0.74        19\n",
      "\n",
      "    accuracy                           0.71        38\n",
      "   macro avg       0.73      0.71      0.71        38\n",
      "weighted avg       0.73      0.71      0.71        38\n",
      "\n",
      "Model accuracy %  0.7105263157894737\n"
     ]
    },
    {
     "name": "stderr",
     "output_type": "stream",
     "text": [
      "<ipython-input-3-00e8faee8a52>:22: DataConversionWarning: A column-vector y was passed when a 1d array was expected. Please change the shape of y to (n_samples,), for example using ravel().\n",
      "  rfc.fit(X_train, y_train)\n"
     ]
    }
   ],
   "source": [
    "############ Data preparation and running the Random Forest Classifier ############\n",
    "\n",
    "from sklearn.ensemble import RandomForestClassifier\n",
    "\n",
    "from sklearn.model_selection import train_test_split\n",
    "from sklearn.model_selection import cross_val_score\n",
    "from sklearn.metrics import classification_report, confusion_matrix\n",
    "\n",
    "\n",
    "df_final = pd.get_dummies(input_df, columns = ['most_altitude', 'most_location_provider', 'most_long_1', \n",
    "                                                 'most_lat_1'], drop_first=True)\n",
    "\n",
    "\n",
    "y = df_final[['loan_outcome']]\n",
    "X = df_final.drop(columns=['loan_outcome'])\n",
    "\n",
    "print (\"X \", X.shape)\n",
    "print (\"y \", y.shape)\n",
    "\n",
    "\n",
    "X_train, X_test, y_train, y_test = train_test_split(X, y, test_size=0.10, random_state=42)\n",
    "\n",
    "rfc = RandomForestClassifier(max_depth=7, n_estimators=20)\n",
    "rfc.fit(X_train, y_train)\n",
    "\n",
    "rfc_predict = rfc.predict(X_test)\n",
    "\n",
    "from sklearn.metrics import accuracy_score\n",
    "\n",
    "print(classification_report(y_test, rfc_predict))\n",
    "\n",
    "\n",
    "acc = accuracy_score(y_test, rfc_predict, normalize=True)\n",
    "print (\"Model accuracy % \", acc)\n"
   ]
  },
  {
   "cell_type": "code",
   "execution_count": 30,
   "metadata": {},
   "outputs": [
    {
     "data": {
      "text/plain": [
       "Text(0, 0.5, 'Frequency')"
      ]
     },
     "execution_count": 30,
     "metadata": {},
     "output_type": "execute_result"
    },
    {
     "data": {
      "image/png": "[encoded data removed]",
      "text/plain": [
       "<Figure size 432x288 with 1 Axes>"
      ]
     },
     "metadata": {
      "needs_background": "light"
     },
     "output_type": "display_data"
    }
   ],
   "source": [
    "############## Frequency distribution of the predicted probabilities to check the confidence range of the predicted classes  ##########\n",
    "\n",
    "y_pred_prob = rfc.predict_proba(X_test)[:, 1]\n",
    "\n",
    "%matplotlib inline\n",
    "import matplotlib.pyplot as plt\n",
    "\n",
    "# adjust the font size \n",
    "plt.rcParams['font.size'] = 12\n",
    "# 8 bins\n",
    "plt.hist(y_pred_prob, bins=8)\n",
    "\n",
    "# x-axis limit from 0 to 1\n",
    "plt.xlim(0,1)\n",
    "plt.title('Histogram of predicted probabilities')\n",
    "plt.xlabel('Predicted probability of loan outcomes')\n",
    "plt.ylabel('Frequency')"
   ]
  },
  {
   "cell_type": "code",
   "execution_count": 34,
   "metadata": {},
   "outputs": [
    {
     "name": "stdout",
     "output_type": "stream",
     "text": [
      "y_pred_prob  [0.34282803 0.58982144 0.58716231 0.43319886 0.6014222  0.54896031\n",
      " 0.69535526 0.61026331 0.47169064 0.43840511 0.36171806 0.72498033\n",
      " 0.69652993 0.16518303 0.59461485 0.39372127 0.57235886 0.56825378\n",
      " 0.34282803 0.75845079 0.52998692 0.63425798 0.56559083 0.29592856\n",
      " 0.46488146 0.48991293 0.8449053  0.39429147 0.30370277 0.20232589\n",
      " 0.75277778 0.71770545 0.7620623  0.31699856 0.5204766  0.46311295\n",
      " 0.45128747 0.49823023]\n",
      "y_test_new  [0 1 0 0 0 1 0 0 1 0 0 1 0 0 1 0 1 1 1 1 1 1 0 0 1 1 1 0 0 0 1 1 0 0 1 1 0\n",
      " 1]\n"
     ]
    },
    {
     "data": {
      "image/png": "[encoded data removed]",
      "text/plain": [
       "<Figure size 432x288 with 1 Axes>"
      ]
     },
     "metadata": {
      "needs_background": "light"
     },
     "output_type": "display_data"
    }
   ],
   "source": [
    "################## ROC curve ##################\n",
    "\n",
    "# we do not use y_pred_class, because it will give incorrect results without generating an error\n",
    "# fpr: false positive rate\n",
    "# tpr: true positive rate\n",
    "\n",
    "# defaulted -- class 0\n",
    "# repaid -- class 1\n",
    "\n",
    "\n",
    "# print (\"c\", y_pred_prob[0:10])\n",
    "\n",
    "y_test_array = np.array(y_test['loan_outcome'])\n",
    "y_test_new = []\n",
    "for e_ in y_test_array: \n",
    "    if e_ == \"defaulted\":\n",
    "        y_test_new.append(0)\n",
    "    else:\n",
    "        y_test_new.append(1)\n",
    "    \n",
    "y_test_new = np.array(y_test_new)\n",
    "print (\"y_pred_prob \", y_pred_prob)\n",
    "print (\"y_test_new \", y_test_new)\n",
    "fpr, tpr, thresholds = metrics.roc_curve(y_test_new, y_pred_prob)\n",
    "\n",
    "plt.plot(fpr, tpr)\n",
    "plt.xlim([0.0, 1.0])\n",
    "plt.ylim([0.0, 1.0])\n",
    "plt.rcParams['font.size'] = 12\n",
    "plt.title('ROC curve for diabetes classifier')\n",
    "plt.xlabel('False Positive Rate (1 - Specificity)')\n",
    "plt.ylabel('True Positive Rate (Sensitivity)')\n",
    "plt.grid(True)"
   ]
  },
  {
   "cell_type": "code",
   "execution_count": 35,
   "metadata": {},
   "outputs": [
    {
     "name": "stdout",
     "output_type": "stream",
     "text": [
      "0.7271468144044322\n"
     ]
    }
   ],
   "source": [
    "##### Accuracy score #######\n",
    "print(metrics.roc_auc_score(y_test, y_pred_prob))\n"
   ]
  },
  {
   "cell_type": "code",
   "execution_count": 20,
   "metadata": {},
   "outputs": [
    {
     "name": "stdout",
     "output_type": "stream",
     "text": [
      "[[12  7]\n",
      " [ 6 13]]\n"
     ]
    }
   ],
   "source": [
    "##### Confusion matrix #######\n",
    "\n",
    "from sklearn import metrics\n",
    "\n",
    "print(metrics.confusion_matrix(y_test, rfc_predict))\n"
   ]
  },
  {
   "cell_type": "code",
   "execution_count": 11,
   "metadata": {},
   "outputs": [
    {
     "name": "stderr",
     "output_type": "stream",
     "text": [
      "/Users/shreyajain/anaconda3/envs/deep_learning/lib/python3.8/site-packages/sklearn/utils/validation.py:73: DataConversionWarning: A column-vector y was passed when a 1d array was expected. Please change the shape of y to (n_samples, ), for example using ravel().\n",
      "  return f(**kwargs)\n"
     ]
    },
    {
     "data": {
      "text/plain": [
       "SVC(C=0.5, cache_size=7000, class_weight='balanced', gamma=10, probability=True)"
      ]
     },
     "execution_count": 11,
     "metadata": {},
     "output_type": "execute_result"
    }
   ],
   "source": [
    "###################. SVM ###############\n",
    "\n",
    "from sklearn.svm import SVC\n",
    "clf_3 = SVC( gamma=10, C=0.5, \n",
    "            class_weight='balanced', # penalize\n",
    "            probability=True, cache_size=7000)\n",
    "\n",
    "clf_3.fit(X_train, y_train)"
   ]
  },
  {
   "cell_type": "code",
   "execution_count": 12,
   "metadata": {},
   "outputs": [
    {
     "name": "stdout",
     "output_type": "stream",
     "text": [
      "              precision    recall  f1-score   support\n",
      "\n",
      "   defaulted       0.00      0.00      0.00        19\n",
      "      repaid       0.50      1.00      0.67        19\n",
      "\n",
      "    accuracy                           0.50        38\n",
      "   macro avg       0.25      0.50      0.33        38\n",
      "weighted avg       0.25      0.50      0.33        38\n",
      "\n",
      "Model accuracy %  0.5\n"
     ]
    },
    {
     "name": "stderr",
     "output_type": "stream",
     "text": [
      "/Users/shreyajain/anaconda3/envs/deep_learning/lib/python3.8/site-packages/sklearn/metrics/_classification.py:1221: UndefinedMetricWarning: Precision and F-score are ill-defined and being set to 0.0 in labels with no predicted samples. Use `zero_division` parameter to control this behavior.\n",
      "  _warn_prf(average, modifier, msg_start, len(result))\n"
     ]
    }
   ],
   "source": [
    "clf_3_predict = clf_3.predict(X_test)\n",
    "\n",
    "from sklearn.metrics import accuracy_score\n",
    "\n",
    "print(classification_report(y_test, clf_3_predict))\n",
    "\n",
    "\n",
    "acc = accuracy_score(y_test, clf_3_predict, normalize=True)\n",
    "print (\"Model accuracy % \", acc)"
   ]
  },
  {
   "cell_type": "code",
   "execution_count": 14,
   "metadata": {},
   "outputs": [
    {
     "name": "stdout",
     "output_type": "stream",
     "text": [
      "X  (371, 7)\n",
      "y  (371, 1)\n",
      "              precision    recall  f1-score   support\n",
      "\n",
      "           0       0.59      0.84      0.70        19\n",
      "           1       0.73      0.42      0.53        19\n",
      "\n",
      "    accuracy                           0.63        38\n",
      "   macro avg       0.66      0.63      0.61        38\n",
      "weighted avg       0.66      0.63      0.61        38\n",
      "\n",
      "Model accuracy %  0.631578947368421\n"
     ]
    },
    {
     "name": "stderr",
     "output_type": "stream",
     "text": [
      "/Users/shreyajain/anaconda3/envs/deep_learning/lib/python3.8/site-packages/sklearn/utils/validation.py:73: DataConversionWarning: A column-vector y was passed when a 1d array was expected. Please change the shape of y to (n_samples, ), for example using ravel().\n",
      "  return f(**kwargs)\n"
     ]
    }
   ],
   "source": [
    "################# Naive Bayes #################\n",
    "\n",
    "# Import LabelEncoder\n",
    "from sklearn import preprocessing\n",
    "#creating labelEncoder\n",
    "le = preprocessing.LabelEncoder()\n",
    "\n",
    "most_altitude_encoded=le.fit_transform(input_df[\"most_altitude\"])\n",
    "most_location_provider_encoded=le.fit_transform(input_df[\"most_location_provider\"])\n",
    "most_long_1_encoded=le.fit_transform(input_df[\"most_long_1\"])\n",
    "most_lat_1_encoded=le.fit_transform(input_df[\"most_lat_1\"])\n",
    "y = le.fit_transform(input_df[\"loan_outcome\"])\n",
    "\n",
    "data = {'most_altitude_encoded':most_altitude_encoded,'most_location_provider_encoded':most_location_provider_encoded,\n",
    "       'most_long_1_encoded': most_long_1_encoded, 'most_lat_1_encoded': most_lat_1_encoded, 'target': y}\n",
    "X = pd.DataFrame(data)\n",
    "X.head(10)\n",
    "\n",
    "X = pd.concat([X, input_df[[\"Frequency_gps_points\",\"age\",\"cash_incoming_30days\"]]], axis=1)\n",
    "X.head(10)\n",
    "\n",
    "\n",
    "y = X[['target']]\n",
    "X = X.drop(columns=['target'])\n",
    "\n",
    "print (\"X \", X.shape)\n",
    "print (\"y \", y.shape)\n",
    "\n",
    "X_train, X_test, y_train, y_test = train_test_split(X, y, test_size=0.10, random_state=42)\n",
    "from sklearn.naive_bayes import GaussianNB\n",
    "\n",
    "#Create a Gaussian Classifier\n",
    "gaussianNB = GaussianNB()\n",
    "\n",
    "# Train the model using the training sets\n",
    "gaussianNB.fit(X_train,y_train)\n",
    "\n",
    "gaussianNB_predict = gaussianNB.predict(X_test)\n",
    "\n",
    "from sklearn.metrics import accuracy_score\n",
    "\n",
    "print(classification_report(y_test, gaussianNB_predict))\n",
    "\n",
    "\n",
    "acc = accuracy_score(y_test, gaussianNB_predict, normalize=True)\n",
    "print (\"Model accuracy % \", acc)\n",
    "\n"
   ]
  },
  {
   "cell_type": "code",
   "execution_count": 15,
   "metadata": {},
   "outputs": [],
   "source": [
    "############### Pickling and Saving the model ################\n",
    "import pickle as p\n",
    "\n",
    "filename = 'models/gaussianNB_model.pkl'\n",
    "p.dump(gaussianNB, open(filename, 'wb'))\n",
    " \n"
   ]
  },
  {
   "cell_type": "code",
   "execution_count": null,
   "metadata": {},
   "outputs": [],
   "source": []
  }
 ],
 "metadata": {
  "kernelspec": {
   "display_name": "Python 3",
   "language": "python",
   "name": "python3"
  },
  "language_info": {
   "codemirror_mode": {
    "name": "ipython",
    "version": 3
   },
   "file_extension": ".py",
   "mimetype": "text/x-python",
   "name": "python",
   "nbconvert_exporter": "python",
   "pygments_lexer": "ipython3",
   "version": "3.8.2"
  }
 },
 "nbformat": 4,
 "nbformat_minor": 4
}
