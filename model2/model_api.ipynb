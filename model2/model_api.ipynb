{
 "cells": [
  {
   "cell_type": "code",
   "execution_count": 1,
   "metadata": {},
   "outputs": [],
   "source": [
    "import pickle as p\n",
    "from flask import Flask, request, redirect, url_for, flash, jsonify\n",
    "import numpy as np\n",
    "import pickle as p\n",
    "import json\n",
    "\n",
    "\n"
   ]
  },
  {
   "cell_type": "code",
   "execution_count": null,
   "metadata": {},
   "outputs": [],
   "source": [
    "##### Running this in a different shell #############\n",
    "\n",
    "import pickle as p\n",
    "from flask import Flask, request, redirect, url_for, flash, jsonify\n",
    "import numpy as np\n",
    "import pickle as p\n",
    "import json\n",
    "\n",
    "\n",
    "app = Flask(__name__)\n",
    "\n",
    "# POST method API that unpickles the model and give predictions. \n",
    "@app.route('/api/', methods=['POST'])\n",
    "def makecalc():\n",
    "    data = request.get_json()\n",
    "    prediction = np.array2string(model.predict(data))\n",
    "    return jsonify(prediction)\n",
    "\n",
    "if __name__ == '__main__':\n",
    "    modelfile = 'models/gaussianNB_model.pkl'\n",
    "    model = p.load(open(modelfile, 'rb'))\n",
    "    app.run(debug=False, host='0.0.0.0', port=12331)\n",
    "    \n",
    "    \n",
    "\n"
   ]
  },
  {
   "cell_type": "code",
   "execution_count": 16,
   "metadata": {},
   "outputs": [
    {
     "name": "stdout",
     "output_type": "stream",
     "text": [
      "<Response [200]> \"[1]\"\n",
      "\n"
     ]
    }
   ],
   "source": [
    "import requests\n",
    "import json\n",
    "\n",
    "url = 'http://0.0.0.0:12331/api/'\n",
    "\n",
    "# input data\n",
    "data = [[1, 0, 0, 0, 218.0]]\n",
    "j_data = json.dumps(data)\n",
    "headers = {'content-type': 'application/json', 'Accept-Charset': 'UTF-8'}\n",
    "r = requests.post(url, data=j_data, headers=headers)\n",
    "\n",
    "# Response\n",
    "print(r, r.text)"
   ]
  },
  {
   "cell_type": "code",
   "execution_count": null,
   "metadata": {},
   "outputs": [],
   "source": []
  }
 ],
 "metadata": {
  "kernelspec": {
   "display_name": "Python 3",
   "language": "python",
   "name": "python3"
  },
  "language_info": {
   "codemirror_mode": {
    "name": "ipython",
    "version": 3
   },
   "file_extension": ".py",
   "mimetype": "text/x-python",
   "name": "python",
   "nbconvert_exporter": "python",
   "pygments_lexer": "ipython3",
   "version": "3.8.2"
  }
 },
 "nbformat": 4,
 "nbformat_minor": 4
}
